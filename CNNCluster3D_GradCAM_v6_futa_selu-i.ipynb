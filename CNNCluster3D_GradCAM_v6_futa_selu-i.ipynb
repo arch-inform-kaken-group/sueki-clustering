{
  "nbformat": 4,
  "nbformat_minor": 5,
  "metadata": {
    "colab": {
      "name": "CNNCluster3D-GradCAM_v6-futa-selu.ipynb",
      "provenance": [],
      "collapsed_sections": [
        "_DYNHrUOzfib"
      ],
      "toc_visible": true
    },
    "kernelspec": {
      "display_name": "Python 3",
      "language": "python",
      "name": "python3"
    },
    "language_info": {
      "codemirror_mode": {
        "name": "ipython",
        "version": 3
      },
      "file_extension": ".py",
      "mimetype": "text/x-python",
      "name": "python",
      "nbconvert_exporter": "python",
      "pygments_lexer": "ipython3",
      "version": "3.9.5"
    }
  },
  "cells": [
    {
      "cell_type": "markdown",
      "source": [
        "# **重要：CPUのランタイムで起動してください**\n",
        "　**このプログラムにはGPU上で実行不能な関数が含まれます．**"
      ],
      "metadata": {
        "id": "c_Cj2I70tn8d"
      },
      "id": "c_Cj2I70tn8d"
    },
    {
      "cell_type": "code",
      "metadata": {
        "colab": {
          "base_uri": "https://localhost:8080/"
        },
        "id": "7bfac36f",
        "outputId": "92d9fc8f-ad34-4ac4-f85f-d5b09a128a86"
      },
      "source": [
        "from google.colab import drive\n",
        "drive.mount('/content/drive')"
      ],
      "id": "7bfac36f",
      "execution_count": null,
      "outputs": [
        {
          "output_type": "stream",
          "name": "stdout",
          "text": [
            "Mounted at /content/drive\n"
          ]
        }
      ]
    },
    {
      "cell_type": "code",
      "source": [
        "!unzip -q /content/drive/MyDrive/sueki_data/20220222_sueki_dataset.zip"
      ],
      "metadata": {
        "id": "ksXWhVI3-pjw"
      },
      "id": "ksXWhVI3-pjw",
      "execution_count": null,
      "outputs": []
    },
    {
      "cell_type": "markdown",
      "source": [
        "# パッケージインストール\n",
        "* 最後の3D可視化で，matplotlib3.3以降から追加された関数：set_box_aspect（3Dグラフにおけるアスペクト比の調整用関数）を使用します．\n",
        "* 2022/02/28現在におけるClabのmatplotlibは3.2なのでアップグレードをお願いいたします．\n",
        "* albumentationsは依存関係チェックを回避するためにアップグレードします．\n",
        "* **アップグレード後にランタイムを再起動して下さい（ランタイム再起動しないと正常に反映されません）**"
      ],
      "metadata": {
        "id": "vMuFpelK5SrR"
      },
      "id": "vMuFpelK5SrR"
    },
    {
      "cell_type": "code",
      "source": [
        "!pip uninstall -q albumentations matplotlib matplotlib-inline matplotlib-venn\n",
        "!pip install -q albumentations matplotlib matplotlib-inline matplotlib-venn"
      ],
      "metadata": {
        "colab": {
          "base_uri": "https://localhost:8080/"
        },
        "id": "aJAAkmkW32fY",
        "outputId": "b9de735f-5be0-4bd5-f9ed-7c4859dfdc0f"
      },
      "execution_count": null,
      "outputs": [
        {
          "output_type": "stream",
          "name": "stdout",
          "text": [
            "Proceed (y/n)? y\n",
            "Proceed (y/n)? y\n",
            "Proceed (y/n)? y\n",
            "Proceed (y/n)? y\n",
            "\u001b[K     |████████████████████████████████| 102 kB 5.3 MB/s \n",
            "\u001b[K     |████████████████████████████████| 11.2 MB 35.9 MB/s \n",
            "\u001b[K     |████████████████████████████████| 47.7 MB 1.4 MB/s \n",
            "\u001b[K     |████████████████████████████████| 895 kB 59.3 MB/s \n",
            "\u001b[?25h  Building wheel for matplotlib-venn (setup.py) ... \u001b[?25l\u001b[?25hdone\n"
          ]
        }
      ],
      "id": "aJAAkmkW32fY"
    },
    {
      "cell_type": "code",
      "metadata": {
        "id": "hf8FZb9OynSF",
        "colab": {
          "base_uri": "https://localhost:8080/"
        },
        "outputId": "eca53905-9728-4856-8803-816be527eaef"
      },
      "source": [
        "!pip install -q japanize_matplotlib\n",
        "!pip install -q tensorflow-determinism classification-models-3D"
      ],
      "execution_count": null,
      "outputs": [
        {
          "output_type": "stream",
          "name": "stdout",
          "text": [
            "\u001b[K     |████████████████████████████████| 4.1 MB 5.3 MB/s \n",
            "\u001b[?25h  Building wheel for japanize-matplotlib (setup.py) ... \u001b[?25l\u001b[?25hdone\n",
            "\u001b[K     |████████████████████████████████| 46 kB 1.8 MB/s \n",
            "\u001b[?25h  Building wheel for tensorflow-determinism (setup.py) ... \u001b[?25l\u001b[?25hdone\n"
          ]
        }
      ],
      "id": "hf8FZb9OynSF"
    },
    {
      "cell_type": "markdown",
      "source": [
        "# **ランタイム再起動**\n",
        "* matplotlibのアップグレードを反映させるため\n",
        "* 再起動しない場合，次のパッケージインポートでエラーが出ます．"
      ],
      "metadata": {
        "id": "_DYNHrUOzfib"
      },
      "id": "_DYNHrUOzfib"
    },
    {
      "cell_type": "markdown",
      "metadata": {
        "id": "VNfGpmKw9j9v"
      },
      "source": [
        "# 仮ラベル付きのクラスタリング"
      ],
      "id": "VNfGpmKw9j9v"
    },
    {
      "cell_type": "code",
      "metadata": {
        "id": "6f464c32"
      },
      "source": [
        "import os\n",
        "from glob import glob\n",
        "import re\n",
        "import numpy as np\n",
        "import pandas as pd\n",
        "import plotly.express as px\n",
        "import matplotlib.pyplot as plt\n",
        "import japanize_matplotlib\n",
        "%matplotlib inline\n",
        "\n",
        "import tensorflow as tf\n",
        "from tensorflow import keras\n",
        "from sklearn.cluster import KMeans\n",
        "from sklearn.preprocessing import StandardScaler\n",
        "from sklearn.decomposition import PCA\n",
        "from sklearn.manifold import TSNE\n",
        "import random\n",
        "import gc\n",
        "\n",
        "from skimage.transform import resize\n",
        "from matplotlib import pyplot as plt\n",
        "from matplotlib.colors import Normalize\n",
        "from mpl_toolkits.axes_grid1.inset_locator import inset_axes\n",
        "import matplotlib.pyplot as plt\n",
        "from matplotlib import cm\n",
        "from keras.utils import np_utils"
      ],
      "id": "6f464c32",
      "execution_count": null,
      "outputs": []
    },
    {
      "cell_type": "code",
      "metadata": {
        "id": "b646003c"
      },
      "source": [
        "\n",
        "def set_seed(seed=200):\n",
        "    tf.random.set_seed(seed)\n",
        "\n",
        "    # optional\n",
        "    # for numpy.random\n",
        "    np.random.seed(seed)\n",
        "    # for built-in random\n",
        "    random.seed(seed)\n",
        "    # for hash seed\n",
        "    os.environ[\"PYTHONHASHSEED\"] = str(seed)\n",
        "    os.environ['TF_DETERMINISTIC_OPS'] = '1'\n",
        "    \n",
        "\n",
        "set_seed(123)\n"
      ],
      "id": "b646003c",
      "execution_count": null,
      "outputs": []
    },
    {
      "cell_type": "markdown",
      "source": [
        "## 定数定義\n",
        "　可視化するCNNCluster3Dモデルと定数定義を合わせてください．"
      ],
      "metadata": {
        "id": "KQOUJ0nqQBB8"
      },
      "id": "KQOUJ0nqQBB8"
    },
    {
      "cell_type": "code",
      "metadata": {
        "id": "feed76cf"
      },
      "source": [
        "NUM_CLASSES = 8\n",
        "NUM_CLUSTERS = 8\n",
        "NUM_PCA_COMPONENTS = 8\n",
        "BUFFER_SIZE = 1000\n",
        "BATCH_SIZE = 16 \n",
        "EPOCHS = 50\n",
        "CLUSTERING_INTERVAL = 1\n",
        "DATA_DIR = '/content/data/voxel'\n",
        "MI_FUTA = 'futa'\n",
        "IMAGE_SIZE = 64\n",
        "NUM_CHANNELS = 4\n",
        "\n",
        "FEATURE_EXTRACTOR_MODEL_PATH = \"feature_extractor_20220222-selu-i_{}_cls{}_ep{}.hdf5\".format(MI_FUTA,NUM_CLUSTERS,EPOCHS)\n",
        "CLASSIFIER_MODEL_PATH = \"classifier_20220222-selu-i_{}_cls{}_ep{}.hdf5\".format(MI_FUTA,NUM_CLUSTERS,EPOCHS)\n",
        "DATASET_SAVE_PATH = \"pseudo_dataset_20220222-selu-i_{}_cls{}_ep{}\".format(MI_FUTA,NUM_CLUSTERS,EPOCHS)\n",
        "\n",
        "DATASAVE_DIR = \"{}_20220222-selu-i_deg30_cls{}_ep{}\".format(MI_FUTA,NUM_CLUSTERS,EPOCHS)\n"
      ],
      "id": "feed76cf",
      "execution_count": null,
      "outputs": []
    },
    {
      "cell_type": "markdown",
      "metadata": {
        "id": "2075eac1"
      },
      "source": [
        "## モデル定義"
      ],
      "id": "2075eac1"
    },
    {
      "cell_type": "code",
      "metadata": {
        "id": "135277a4"
      },
      "source": [
        "class ConvNet3D(keras.Model):\n",
        "    def __init__(self):\n",
        "        super(ConvNet3D, self).__init__()\n",
        "        self.conv3d_1 = keras.layers.Conv3D(filters=64, kernel_initializer='lecun_normal', kernel_size=3, activation='linear', name='conv3d_1')\n",
        "        self.bn_1 = keras.layers.BatchNormalization()\n",
        "        self.act_1 = keras.layers.Activation('selu')\n",
        "        self.maxpool3d_1 = keras.layers.MaxPool3D(pool_size=2)\n",
        "        \n",
        "        \n",
        "        self.conv3d_2 = keras.layers.Conv3D(filters=64, kernel_initializer='lecun_normal', kernel_size=3, activation='linear', name='conv3d_2')\n",
        "        self.bn_2 = keras.layers.BatchNormalization()\n",
        "        self.act_2 = keras.layers.Activation('selu')\n",
        "        self.maxpool3d_2 = keras.layers.MaxPool3D(pool_size=2)\n",
        "        \n",
        "        \n",
        "        self.conv3d_3 = keras.layers.Conv3D(filters=128, kernel_initializer='lecun_normal', kernel_size=3, activation='linear', name='conv3d_3')\n",
        "        self.bn_3 = keras.layers.BatchNormalization()\n",
        "        self.act_3 = keras.layers.Activation('selu')\n",
        "        self.maxpool3d_3 = keras.layers.MaxPool3D(pool_size=2)\n",
        "        \n",
        "        \n",
        "        self.conv3d_4 = keras.layers.Conv3D(filters=256, kernel_initializer='lecun_normal', kernel_size=3, activation='linear', name='conv3d_4')\n",
        "        self.bn_4 = keras.layers.BatchNormalization()\n",
        "        self.act_4 = keras.layers.Activation('selu')\n",
        "        self.maxpool3d_4 = keras.layers.MaxPool3D(pool_size=1)\n",
        "        \n",
        "\n",
        "        self.gap_1 = keras.layers.GlobalAveragePooling3D()\n",
        "        \n",
        "        self.dense_1 = keras.layers.Dense(128, kernel_initializer='lecun_normal')\n",
        "        self.dense_2 = keras.layers.Dense(128, kernel_initializer='lecun_normal')\n",
        "\n",
        "    def call(self, inputs):\n",
        "        x = self.conv3d_1(inputs)\n",
        "        x = self.bn_1(x)\n",
        "        x = self.act_1(x)\n",
        "        x = self.maxpool3d_1(x)\n",
        "        \n",
        "        x = self.conv3d_2(x)\n",
        "        x = self.bn_2(x)\n",
        "        x = self.act_2(x)\n",
        "        x = self.maxpool3d_2(x)\n",
        "        \n",
        "        x = self.conv3d_3(x)\n",
        "        x = self.bn_3(x)\n",
        "        x = self.act_3(x)\n",
        "        x = self.maxpool3d_3(x)\n",
        "        \n",
        "        x = self.conv3d_4(x)\n",
        "        x = self.bn_4(x)\n",
        "        x = self.act_4(x)\n",
        "        x = self.maxpool3d_4(x)\n",
        "        \n",
        "        x = self.gap_1(x)\n",
        "        x_1 = self.dense_1(x)\n",
        "        x_2 = self.dense_2(x)\n",
        "        return [x_1, x_2]"
      ],
      "id": "135277a4",
      "execution_count": null,
      "outputs": []
    },
    {
      "cell_type": "code",
      "source": [
        "class Classify3D(tf.keras.Model):\n",
        "    def __init__(self, feature_extractor, num_of_classes=3):\n",
        "        super(Classify3D, self).__init__()\n",
        "        self.feature_extractor = feature_extractor\n",
        "        self.num_of_classes = num_of_classes\n",
        "        self.activation_1 = keras.layers.Activation(keras.activations.selu)\n",
        "        self.activation_2 = keras.layers.Activation(keras.activations.selu)\n",
        "        self.dense_1 = keras.layers.Dense(self.num_of_classes, activation='softmax')\n",
        "        self.dense_2 = keras.layers.Dense(self.num_of_classes, activation='softmax')\n",
        "        \n",
        "    def call(self, inputs):\n",
        "        x_1, x_2 = self.feature_extractor(inputs)\n",
        "        x_1 = self.activation_1(x_1)\n",
        "        x_1 = self.dense_1(x_1)\n",
        "        x_2 = self.activation_2(x_2)\n",
        "        x_2 = self.dense_2(x_2)\n",
        "\n",
        "        return [x_1, x_2]"
      ],
      "metadata": {
        "id": "YYH2hrqz1Ecm"
      },
      "id": "YYH2hrqz1Ecm",
      "execution_count": null,
      "outputs": []
    },
    {
      "cell_type": "code",
      "metadata": {
        "colab": {
          "base_uri": "https://localhost:8080/"
        },
        "id": "4d1a20f9",
        "outputId": "41e5edf5-9441-4712-d0f2-6e4cd8158474"
      },
      "source": [
        "feature_extractor = ConvNet3D()\n",
        "feature_extractor.build(input_shape=(BATCH_SIZE, IMAGE_SIZE, IMAGE_SIZE, IMAGE_SIZE, NUM_CHANNELS))\n",
        "feature_extractor.summary()"
      ],
      "id": "4d1a20f9",
      "execution_count": null,
      "outputs": [
        {
          "output_type": "stream",
          "name": "stdout",
          "text": [
            "Model: \"conv_net3d\"\n",
            "_________________________________________________________________\n",
            " Layer (type)                Output Shape              Param #   \n",
            "=================================================================\n",
            " conv3d_1 (Conv3D)           multiple                  6976      \n",
            "                                                                 \n",
            " batch_normalization (BatchN  multiple                 256       \n",
            " ormalization)                                                   \n",
            "                                                                 \n",
            " activation (Activation)     multiple                  0         \n",
            "                                                                 \n",
            " max_pooling3d (MaxPooling3D  multiple                 0         \n",
            " )                                                               \n",
            "                                                                 \n",
            " conv3d_2 (Conv3D)           multiple                  110656    \n",
            "                                                                 \n",
            " batch_normalization_1 (Batc  multiple                 256       \n",
            " hNormalization)                                                 \n",
            "                                                                 \n",
            " activation_1 (Activation)   multiple                  0         \n",
            "                                                                 \n",
            " max_pooling3d_1 (MaxPooling  multiple                 0         \n",
            " 3D)                                                             \n",
            "                                                                 \n",
            " conv3d_3 (Conv3D)           multiple                  221312    \n",
            "                                                                 \n",
            " batch_normalization_2 (Batc  multiple                 512       \n",
            " hNormalization)                                                 \n",
            "                                                                 \n",
            " activation_2 (Activation)   multiple                  0         \n",
            "                                                                 \n",
            " max_pooling3d_2 (MaxPooling  multiple                 0         \n",
            " 3D)                                                             \n",
            "                                                                 \n",
            " conv3d_4 (Conv3D)           multiple                  884992    \n",
            "                                                                 \n",
            " batch_normalization_3 (Batc  multiple                 1024      \n",
            " hNormalization)                                                 \n",
            "                                                                 \n",
            " activation_3 (Activation)   multiple                  0         \n",
            "                                                                 \n",
            " max_pooling3d_3 (MaxPooling  multiple                 0         \n",
            " 3D)                                                             \n",
            "                                                                 \n",
            " global_average_pooling3d (G  multiple                 0         \n",
            " lobalAveragePooling3D)                                          \n",
            "                                                                 \n",
            " dense (Dense)               multiple                  32896     \n",
            "                                                                 \n",
            " dense_1 (Dense)             multiple                  32896     \n",
            "                                                                 \n",
            "=================================================================\n",
            "Total params: 1,291,776\n",
            "Trainable params: 1,290,752\n",
            "Non-trainable params: 1,024\n",
            "_________________________________________________________________\n"
          ]
        }
      ]
    },
    {
      "cell_type": "code",
      "metadata": {
        "colab": {
          "base_uri": "https://localhost:8080/"
        },
        "id": "a0683a3c",
        "outputId": "78a85b38-7f88-4e24-e66f-6c9ed30edd24"
      },
      "source": [
        "classifier = Classify3D(feature_extractor, num_of_classes=NUM_CLASSES)\n",
        "classifier.build(input_shape=(BATCH_SIZE, IMAGE_SIZE, IMAGE_SIZE, IMAGE_SIZE, NUM_CHANNELS))\n",
        "classifier.summary()"
      ],
      "id": "a0683a3c",
      "execution_count": null,
      "outputs": [
        {
          "output_type": "stream",
          "name": "stdout",
          "text": [
            "Model: \"classify3d\"\n",
            "_________________________________________________________________\n",
            " Layer (type)                Output Shape              Param #   \n",
            "=================================================================\n",
            " conv_net3d (ConvNet3D)      multiple                  1291776   \n",
            "                                                                 \n",
            " activation_4 (Activation)   multiple                  0         \n",
            "                                                                 \n",
            " activation_5 (Activation)   multiple                  0         \n",
            "                                                                 \n",
            " dense_2 (Dense)             multiple                  1032      \n",
            "                                                                 \n",
            " dense_3 (Dense)             multiple                  1032      \n",
            "                                                                 \n",
            "=================================================================\n",
            "Total params: 1,293,840\n",
            "Trainable params: 1,292,816\n",
            "Non-trainable params: 1,024\n",
            "_________________________________________________________________\n"
          ]
        }
      ]
    },
    {
      "cell_type": "markdown",
      "metadata": {
        "id": "8a3126a6"
      },
      "source": [
        "## データ準備"
      ],
      "id": "8a3126a6"
    },
    {
      "cell_type": "code",
      "metadata": {
        "id": "05662b1b"
      },
      "source": [
        "categories1 = ['2-1','2-2','2-3','2-4','2-5','temp1-1','temp1-2','temp1-3']#,'temp1-4','temp1-5']\n",
        "categories2 = ['前葉','中葉','後葉', 'temp2-1','temp2-2','temp2-3','temp2-4','temp2-5']#,'temp2-6','temp2-7']"
      ],
      "id": "05662b1b",
      "execution_count": null,
      "outputs": []
    },
    {
      "cell_type": "code",
      "source": [
        "label_dict = {\n",
        "  'J-3651':['2-3','中葉'],#蓋  ##追加20220217\n",
        "  'J-13305-5':['2-3','中葉'],#蓋\n",
        "  'J-6568':['2-3','中葉'],#蓋\n",
        "  'J-22896-1':['2-4','後葉'],#蓋\n",
        "  'J-22896-2':['2-4','後葉'],#蓋\n",
        "  'J-22896-4':['2-4','後葉'],#蓋\n",
        "  'J-3457':['2-5','後葉'],#蓋\n",
        "  'J-6569':['2-5','後葉'],#蓋\n",
        "  'J-14876':['2-5','後葉'],#蓋  ##追加20220222\n",
        "  'J-20215':['2-5','後葉'],#蓋\n",
        "  'J-22896-3':['2-5','後葉'],#蓋\n",
        "  'J-22896-9':['2-5','後葉'],#蓋  ##追加20220217\n",
        "  'J-23682':['2-5','後葉'],#蓋  ##追加20220222\n",
        "\n",
        "  'J-6564':['2-3','中葉'],#蓋と身\n",
        "  'J-6574':['2-3','中葉'],#蓋と身\n",
        "  'J-13305-2':['2-3','中葉'],#蓋と身\n",
        "  'J-23050':['2-4','後葉'],#蓋と身  ##20220210追加\n",
        "  'J-11536':['2-5','後葉'],#蓋と身  ##追加20220222\n",
        "\n",
        "\n",
        "  'J-142':['2-3','中葉'],#身 ##追加20220214\n",
        "  'J-3516':['2-3','中葉'],#身  ##追加20220214\n",
        "  'J-3527':['2-3','中葉'],#身  ##追加20220214\n",
        "  'J-3583':['2-3','中葉'],#身\n",
        "  'J-5834':['2-3','中葉'],#身  ##追加20220217\n",
        "  'J-6565':['2-3','中葉'],#身\n",
        "  'J-3603':['2-4','後葉'],#身 ##20220208追加\n",
        "  'J-6571':['2-4','後葉'],#身\n",
        "\n",
        "  'J-8828-3':['2-4','後葉'],#身\n",
        "  'J-8828-5':['2-4','後葉'],#身\n",
        "  'J-22896-15':['2-4','後葉'],#身  ##追加20220217\n",
        "  'J-3650':['2-5','後葉'],#身  ##追加20220222\n",
        "  'J-9830':['2-5','後葉'],#身\n",
        "  'J-22266':['2-5','後葉'],#身\n",
        "  'J-22896-12':['2-5','後葉'],#身  ##追加20220217\n",
        "  'J-22896-16':['2-5','後葉'],#身  ##追加20220217\n",
        "  'J-22896-19':['2-5','後葉'],#身  ##追加20220222\n",
        "  'J-22896-21':['2-5','後葉'],#身  ##追加20220222\n",
        "  \n",
        "  'J-139':['2-1','前葉'],#蓋と身  ##追加20220217\n",
        "  'J-11563':['2-1','前葉'],#蓋と身  ##追加20220217\n",
        "  \n",
        "  'J-7598':['2-1','前葉'],#蓋と身  ##20220210追加\n",
        "  'J-3961':['2-1','前葉'],#身  ##追加20220214\n",
        "  'J-20761':['2-1','前葉'],#身  ##追加20220214\n",
        "\n",
        "\n",
        "  'J-147':['2-2','前葉'],#蓋 ##追加20220214\n",
        "  'J-3522':['2-2','前葉'],#蓋\n",
        "\n",
        "  'J-3920':['2-2','前葉'],#身  ##追加20220214\n",
        "  'J-7606':['2-2','前葉'],#身  ##追加20220214\n",
        "  'J-22802':['2-2','前葉'],#身\n",
        "\n",
        "\n",
        "  'J-6572':['2-3','中葉'],#蓋\n",
        "  'J-13305-3':['2-3','中葉'],#蓋\n",
        "  'J-13305-6':['2-3','中葉'],#蓋\n",
        "  'J-6570':['2-4','後葉'],#蓋\n",
        "  'J-23049':['2-4','後葉'],#蓋  ##20220210追加\n",
        "  'J-22896-8':['2-4','後葉'], #蓋\n",
        "\n",
        "  'J-3667':['2-5','後葉'],#蓋\n",
        "  'J-22896-7':['2-5','後葉'],#蓋\n",
        "  'J-22896-10':['2-5','後葉'],#蓋  ##追加20220217\n",
        "\n",
        "  \n",
        "  'J-6573':['2-3','中葉'],#蓋と身\n",
        "  'J-13305-1':['2-5','後葉'],#蓋と身\n",
        "  'J-6566':['2-3','中葉'],#身\n",
        "  'J-3648':['2-4','後葉'],#身\n",
        "  'J-8828-6':['2-4','後葉'],#身\n",
        "  'J-33902':['2-4','後葉'],#身 ##20220208追加\n",
        "  'J-3619':['2-5','後葉'],#身 ##20220208追加\n",
        "  'J-8828-8':['2-5','後葉'],#身\n",
        "  'J-22896-13':['2-5','後葉'],#身  ##追加20220217\n",
        "  'J-22896-22':['2-5','後葉'],#身  ##追加20220222\n",
        "\n",
        "\n",
        "  'J-20295':['2-1','前葉'],#蓋  ##追加20220217\n",
        "  'J-4120':['2-1','前葉'],#蓋と身 ##追加20220214\n",
        "\n",
        "\n",
        "  'J-3589':['2-2','前葉'],#蓋  ##追加20220214\n",
        "  'J-3634':['2-2','前葉'],#蓋と身  ##20220208追加  \n",
        "  'J-3959':['2-2','前葉'],#身  ##追加20220214\n",
        "  \n",
        "\n",
        "  'J-3584':['2-3','中葉'],#蓋\n",
        "  'J-13305-4':['2-3','中葉'],#蓋\n",
        "  'J-22896-5':['2-4','後葉'],#蓋\n",
        "  'J-22262':['2-5','後葉'],#蓋\n",
        "  'J-22896-6':['2-5','後葉'],#蓋\n",
        "  'J-22896-11':['2-5','後葉'],#蓋  ##追加20220217\n",
        "\n",
        "  'J-134':['2-3','中葉'],#蓋と身 ##20220210追加（身が20220222で追加）\n",
        "  'J-6575':['2-3','中葉'],#蓋と身\n",
        "\n",
        "  'J-4121':['2-3','中葉'],#身 ##追加20220214\n",
        "  'J-6576':['2-3','中葉'],#身\n",
        "  'J-8828-7':['2-3','中葉'],#身\n",
        "  'J-3453':['2-4','後葉'],#身\n",
        "  'J-7337':['2-4','後葉'],#身\n",
        "  'J-8828-4':['2-4','後葉'],#身\n",
        "  'J-22896-17':['2-4','後葉'],#身  ##追加20220222\n",
        "  'J-3510':['2-5','後葉'],#身  ##追加20220222\n",
        "  'J-33900':['2-5','後葉'],#身\n",
        "  'J-22896-14':['2-5','後葉'],#身  ##追加20220217\n",
        "\n",
        "  'J-20297':['2-1','前葉'],#蓋  ##追加20220217\n",
        "  'J-22806':['2-1','前葉'],#身\n",
        "\n",
        "  'J-4081':['2-2','前葉'],#蓋  ##追加20220214\n",
        "  'J-7607':['2-2','前葉'],#蓋と身  ##20220210追加\n",
        "  'J-3682':['2-2','前葉'],#身  ##追加20220214\n",
        "\n",
        "}\n"
      ],
      "metadata": {
        "id": "mbmdjPFWw0jk"
      },
      "id": "mbmdjPFWw0jk",
      "execution_count": null,
      "outputs": []
    },
    {
      "cell_type": "markdown",
      "source": [
        "# Grad-CAM"
      ],
      "metadata": {
        "id": "_nCJCYmCXPKX"
      },
      "id": "_nCJCYmCXPKX"
    },
    {
      "cell_type": "markdown",
      "source": [
        "## CNNClusterで作成したモデルとデータセットをコピー"
      ],
      "metadata": {
        "id": "6PSGcjMruLLK"
      },
      "id": "6PSGcjMruLLK"
    },
    {
      "cell_type": "code",
      "source": [
        "# ドライブへ退避させたモデルとデータセットをコピー\n",
        "#!cp -r /content/drive/MyDrive/sueki_data/{DATASAVE_DIR}/{FEATURE_EXTRACTOR_MODEL_PATH} /content/drive/MyDrive/sueki_data/{DATASAVE_DIR}/{CLASSIFIER_MODEL_PATH} /content/drive/MyDrive/sueki_data/{DATASAVE_DIR}/{DATASET_SAVE_PATH} ./"
      ],
      "metadata": {
        "id": "g5wtPJNulk0Y"
      },
      "id": "g5wtPJNulk0Y",
      "execution_count": null,
      "outputs": []
    },
    {
      "cell_type": "code",
      "source": [
        "# ドライブへ退避させたモデルとデータセットをコピー\n",
        "!cp -r /content/drive/MyDrive/sueki_data/{DATASAVE_DIR}/ ./"
      ],
      "metadata": {
        "id": "hLZDufR0_UIZ"
      },
      "id": "hLZDufR0_UIZ",
      "execution_count": null,
      "outputs": []
    },
    {
      "cell_type": "markdown",
      "source": [
        "## Grad-CAM用のモデル定義\n",
        "  - 上記のクラスタリングのモデル定義をまとめて1つにしたもの<br>\n",
        "  - Classify3Dクラスで定義したモデルからConvNet3Dクラスのconv3d_4レイヤを直接get_layerできないため1つのクラスで再定義<br>\n",
        "  \n",
        "  "
      ],
      "metadata": {
        "id": "JuM3w8TsZGzU"
      },
      "id": "JuM3w8TsZGzU"
    },
    {
      "cell_type": "code",
      "source": [
        "class ConvNet3D_grad(keras.Model):\n",
        "    def __init__(self,num_of_classes=8):\n",
        "        super(ConvNet3D_grad, self).__init__()\n",
        "        self.conv3d_1 = keras.layers.Conv3D(filters=64, kernel_initializer='lecun_normal', kernel_size=3, activation='linear', name='conv3d_1')\n",
        "        self.bn_1 = keras.layers.BatchNormalization()\n",
        "        self.act_1 = keras.layers.Activation('selu')\n",
        "        self.maxpool3d_1 = keras.layers.MaxPool3D(pool_size=2)\n",
        "        \n",
        "        \n",
        "        self.conv3d_2 = keras.layers.Conv3D(filters=64, kernel_initializer='lecun_normal', kernel_size=3, activation='linear', name='conv3d_2')\n",
        "        self.bn_2 = keras.layers.BatchNormalization()\n",
        "        self.act_2 = keras.layers.Activation('selu')\n",
        "        self.maxpool3d_2 = keras.layers.MaxPool3D(pool_size=2)\n",
        "        \n",
        "        \n",
        "        self.conv3d_3 = keras.layers.Conv3D(filters=128, kernel_initializer='lecun_normal', kernel_size=3, activation='linear', name='conv3d_3')\n",
        "        self.bn_3 = keras.layers.BatchNormalization()\n",
        "        self.act_3 = keras.layers.Activation('selu')\n",
        "        self.maxpool3d_3 = keras.layers.MaxPool3D(pool_size=2)\n",
        "        \n",
        "        \n",
        "        self.conv3d_4 = keras.layers.Conv3D(filters=256, kernel_initializer='lecun_normal', kernel_size=3, activation='linear', name='conv3d_4')\n",
        "        self.bn_4 = keras.layers.BatchNormalization()\n",
        "        self.act_4 = keras.layers.Activation('selu')\n",
        "        self.maxpool3d_4 = keras.layers.MaxPool3D(pool_size=1)\n",
        "        \n",
        "\n",
        "        self.gap_1 = keras.layers.GlobalAveragePooling3D()\n",
        "        \n",
        "               \n",
        "        self.dense_1_1 = keras.layers.Dense(128, kernel_initializer='lecun_normal')\n",
        "        self.dense_1_2 = keras.layers.Dense(128, kernel_initializer='lecun_normal')\n",
        "\n",
        "        self.num_of_classes = num_of_classes\n",
        "\n",
        "        self.activation_2_1 = keras.layers.Activation(keras.activations.selu)\n",
        "        self.activation_2_2 = keras.layers.Activation(keras.activations.selu)\n",
        "        self.dense_2_1 = keras.layers.Dense(self.num_of_classes, activation='softmax')\n",
        "        self.dense_2_2 = keras.layers.Dense(self.num_of_classes, activation='softmax')\n",
        "\n",
        "    def call(self, inputs):\n",
        "        x = self.conv3d_1(inputs)\n",
        "        x = self.bn_1(x)\n",
        "        x = self.act_1(x)\n",
        "        x = self.maxpool3d_1(x)\n",
        "        \n",
        "        x = self.conv3d_2(x)\n",
        "        x = self.bn_2(x)\n",
        "        x = self.act_2(x)\n",
        "        x = self.maxpool3d_2(x)\n",
        "        \n",
        "        x = self.conv3d_3(x)\n",
        "        x = self.bn_3(x)\n",
        "        x = self.act_3(x)\n",
        "        x = self.maxpool3d_3(x)\n",
        "        \n",
        "        x = self.conv3d_4(x)\n",
        "        x = self.bn_4(x)\n",
        "        x_g = self.act_4(x)\n",
        "        x_g = self.maxpool3d_4(x_g)\n",
        "        \n",
        "        x_g = self.gap_1(x_g)\n",
        "        x_1 = self.dense_1_1(x_g)\n",
        "        x_2 = self.dense_1_2(x_g)\n",
        "\n",
        "        x_1 = self.activation_2_1(x_1)\n",
        "        x_1 = self.dense_2_1(x_1)\n",
        "\n",
        "        x_2 = self.activation_2_2(x_2)\n",
        "        x_2 = self.dense_2_2(x_2)\n",
        "\n",
        "\n",
        "        return [x, [x_1, x_2]]"
      ],
      "metadata": {
        "id": "rgpBx18ozwpv"
      },
      "id": "rgpBx18ozwpv",
      "execution_count": null,
      "outputs": []
    },
    {
      "cell_type": "code",
      "source": [
        "gc.collect()"
      ],
      "metadata": {
        "colab": {
          "base_uri": "https://localhost:8080/"
        },
        "id": "ddwrGjqi40zL",
        "outputId": "1c574a19-ebab-4c7b-c5ef-b73e8de2e267"
      },
      "id": "ddwrGjqi40zL",
      "execution_count": null,
      "outputs": [
        {
          "output_type": "execute_result",
          "data": {
            "text/plain": [
              "99"
            ]
          },
          "metadata": {},
          "execution_count": 10
        }
      ]
    },
    {
      "cell_type": "markdown",
      "source": [
        "### CNNCluster3Dモデルの重みをLoadする"
      ],
      "metadata": {
        "id": "b-rb34Ou8av0"
      },
      "id": "b-rb34Ou8av0"
    },
    {
      "cell_type": "code",
      "source": [
        "temp_model_1 = ConvNet3D()\n",
        "temp_model_1.build(input_shape=(BATCH_SIZE, IMAGE_SIZE, IMAGE_SIZE, IMAGE_SIZE, NUM_CHANNELS))\n",
        "temp_model_1.load_weights(DATASAVE_DIR+'/'+FEATURE_EXTRACTOR_MODEL_PATH)\n",
        "temp_model_2 = Classify3D(temp_model_1, num_of_classes=NUM_CLASSES)\n",
        "temp_model_2.build(input_shape=(BATCH_SIZE, IMAGE_SIZE, IMAGE_SIZE, IMAGE_SIZE, NUM_CHANNELS))\n",
        "temp_model_2.load_weights(DATASAVE_DIR+'/'+CLASSIFIER_MODEL_PATH)"
      ],
      "metadata": {
        "id": "47qDSs2q6q3w"
      },
      "id": "47qDSs2q6q3w",
      "execution_count": null,
      "outputs": []
    },
    {
      "cell_type": "code",
      "source": [
        "grad_model = ConvNet3D_grad()\n",
        "grad_model.build(input_shape=(BATCH_SIZE, IMAGE_SIZE, IMAGE_SIZE, IMAGE_SIZE, NUM_CHANNELS))\n",
        "\n",
        "#既存モデルをLoad\n",
        "grad_model.set_weights(temp_model_2.weights)"
      ],
      "metadata": {
        "id": "jHZKr1SwE_LB"
      },
      "id": "jHZKr1SwE_LB",
      "execution_count": null,
      "outputs": []
    },
    {
      "cell_type": "markdown",
      "source": [
        "# Grad-CAM用dataframe\n",
        "　CNNCluster3Dで作成した疑似ラベル付きのdatasetと，クラスタ結果のnpyファイルを読み込みます．"
      ],
      "metadata": {
        "id": "mhONeKAk00ry"
      },
      "id": "mhONeKAk00ry"
    },
    {
      "cell_type": "code",
      "source": [
        "pseudo_dataset = tf.data.experimental.load(DATASAVE_DIR+'/'+DATASET_SAVE_PATH)\n",
        "km_predictions1 = np.load(DATASAVE_DIR+\"/km_predictions1.npy\")\n",
        "km_predictions2 = np.load(DATASAVE_DIR+\"/km_predictions2.npy\")"
      ],
      "metadata": {
        "id": "G9bt84WjoC9T"
      },
      "id": "G9bt84WjoC9T",
      "execution_count": null,
      "outputs": []
    },
    {
      "cell_type": "code",
      "source": [
        "num = []\n",
        "futami = []\n",
        "name = []\n",
        "true_type = []\n",
        "true_age = []\n",
        "pseudo_type = []\n",
        "pseudo_age = []\n",
        "cluster_type = []\n",
        "cluster_age = []\n",
        "voxel_path = []\n",
        "\n",
        "for i, d in enumerate(pseudo_dataset):\n",
        "  voxel_path.append(d[0].numpy().decode())\n",
        "  futami.append(os.path.splitext(os.path.basename(d[0].numpy().decode()))[0].split('_',4)[0])\n",
        "  name.append(os.path.splitext(os.path.basename(d[0].numpy().decode()))[0].split('_',4)[1])\n",
        "  true_type.append(categories1[int(os.path.splitext(os.path.basename(d[0].numpy().decode()))[0].split('_',4)[2])])\n",
        "  true_age.append(categories2[int(os.path.splitext(os.path.basename(d[0].numpy().decode()))[0].split('_',4)[3])])\n",
        "  pseudo_type.append(d[1].numpy()[0])\n",
        "  pseudo_age.append(d[1].numpy()[1])\n",
        "  num.append(os.path.splitext(os.path.basename(d[0].numpy().decode()))[0].split('_',6)[5])\n",
        "\n",
        "for k1, k2 in zip(km_predictions1,km_predictions2):\n",
        "  cluster_type.append(k1)\n",
        "  cluster_age.append(k2)\n",
        "  \n",
        "pseudo_df = pd.DataFrame(list(zip(futami, name, voxel_path, num, true_type, true_age, pseudo_type, pseudo_age, cluster_type, cluster_age)), columns = \\\n",
        "                  ['蓋・身','列品番号','voxel_path','回転角度','正解ラベル-型式','正解ラベル-時代','疑似ラベル-型式','疑似ラベル-時代','クラスタ-型式','クラスタ-時代'])"
      ],
      "metadata": {
        "id": "CNRuyu850ulN"
      },
      "execution_count": null,
      "outputs": [],
      "id": "CNRuyu850ulN"
    },
    {
      "cell_type": "code",
      "source": [
        "pseudo_df.to_csv(DATASET_SAVE_PATH+\".csv\")"
      ],
      "metadata": {
        "id": "z9sHENB60fn_"
      },
      "id": "z9sHENB60fn_",
      "execution_count": null,
      "outputs": []
    },
    {
      "cell_type": "code",
      "source": [
        "pseudo_df"
      ],
      "metadata": {
        "colab": {
          "base_uri": "https://localhost:8080/",
          "height": 658
        },
        "id": "Q1v9jhbl0otM",
        "outputId": "804c86fc-8ed8-4685-fcc7-c167921172a0"
      },
      "id": "Q1v9jhbl0otM",
      "execution_count": null,
      "outputs": [
        {
          "output_type": "execute_result",
          "data": {
            "text/html": [
              "\n",
              "  <div id=\"df-952a80a8-38c1-48ff-84ad-f4fd78ec6664\">\n",
              "    <div class=\"colab-df-container\">\n",
              "      <div>\n",
              "<style scoped>\n",
              "    .dataframe tbody tr th:only-of-type {\n",
              "        vertical-align: middle;\n",
              "    }\n",
              "\n",
              "    .dataframe tbody tr th {\n",
              "        vertical-align: top;\n",
              "    }\n",
              "\n",
              "    .dataframe thead th {\n",
              "        text-align: right;\n",
              "    }\n",
              "</style>\n",
              "<table border=\"1\" class=\"dataframe\">\n",
              "  <thead>\n",
              "    <tr style=\"text-align: right;\">\n",
              "      <th></th>\n",
              "      <th>蓋・身</th>\n",
              "      <th>列品番号</th>\n",
              "      <th>voxel_path</th>\n",
              "      <th>回転角度</th>\n",
              "      <th>正解ラベル-型式</th>\n",
              "      <th>正解ラベル-時代</th>\n",
              "      <th>疑似ラベル-型式</th>\n",
              "      <th>疑似ラベル-時代</th>\n",
              "      <th>クラスタ-型式</th>\n",
              "      <th>クラスタ-時代</th>\n",
              "    </tr>\n",
              "  </thead>\n",
              "  <tbody>\n",
              "    <tr>\n",
              "      <th>0</th>\n",
              "      <td>futa</td>\n",
              "      <td>J-11536</td>\n",
              "      <td>/content/data/voxel/futa_J-11536_4_2_64_000.npy</td>\n",
              "      <td>000</td>\n",
              "      <td>2-5</td>\n",
              "      <td>後葉</td>\n",
              "      <td>2</td>\n",
              "      <td>1</td>\n",
              "      <td>1</td>\n",
              "      <td>5</td>\n",
              "    </tr>\n",
              "    <tr>\n",
              "      <th>1</th>\n",
              "      <td>futa</td>\n",
              "      <td>J-11536</td>\n",
              "      <td>/content/data/voxel/futa_J-11536_4_2_64_030.npy</td>\n",
              "      <td>030</td>\n",
              "      <td>2-5</td>\n",
              "      <td>後葉</td>\n",
              "      <td>2</td>\n",
              "      <td>1</td>\n",
              "      <td>1</td>\n",
              "      <td>5</td>\n",
              "    </tr>\n",
              "    <tr>\n",
              "      <th>2</th>\n",
              "      <td>futa</td>\n",
              "      <td>J-11536</td>\n",
              "      <td>/content/data/voxel/futa_J-11536_4_2_64_060.npy</td>\n",
              "      <td>060</td>\n",
              "      <td>2-5</td>\n",
              "      <td>後葉</td>\n",
              "      <td>2</td>\n",
              "      <td>1</td>\n",
              "      <td>1</td>\n",
              "      <td>5</td>\n",
              "    </tr>\n",
              "    <tr>\n",
              "      <th>3</th>\n",
              "      <td>futa</td>\n",
              "      <td>J-11536</td>\n",
              "      <td>/content/data/voxel/futa_J-11536_4_2_64_090.npy</td>\n",
              "      <td>090</td>\n",
              "      <td>2-5</td>\n",
              "      <td>後葉</td>\n",
              "      <td>2</td>\n",
              "      <td>1</td>\n",
              "      <td>1</td>\n",
              "      <td>5</td>\n",
              "    </tr>\n",
              "    <tr>\n",
              "      <th>4</th>\n",
              "      <td>futa</td>\n",
              "      <td>J-11536</td>\n",
              "      <td>/content/data/voxel/futa_J-11536_4_2_64_120.npy</td>\n",
              "      <td>120</td>\n",
              "      <td>2-5</td>\n",
              "      <td>後葉</td>\n",
              "      <td>2</td>\n",
              "      <td>1</td>\n",
              "      <td>1</td>\n",
              "      <td>5</td>\n",
              "    </tr>\n",
              "    <tr>\n",
              "      <th>...</th>\n",
              "      <td>...</td>\n",
              "      <td>...</td>\n",
              "      <td>...</td>\n",
              "      <td>...</td>\n",
              "      <td>...</td>\n",
              "      <td>...</td>\n",
              "      <td>...</td>\n",
              "      <td>...</td>\n",
              "      <td>...</td>\n",
              "      <td>...</td>\n",
              "    </tr>\n",
              "    <tr>\n",
              "      <th>583</th>\n",
              "      <td>futa</td>\n",
              "      <td>J-7607</td>\n",
              "      <td>/content/data/voxel/futa_J-7607_1_0_64_210.npy</td>\n",
              "      <td>210</td>\n",
              "      <td>2-2</td>\n",
              "      <td>前葉</td>\n",
              "      <td>2</td>\n",
              "      <td>1</td>\n",
              "      <td>3</td>\n",
              "      <td>1</td>\n",
              "    </tr>\n",
              "    <tr>\n",
              "      <th>584</th>\n",
              "      <td>futa</td>\n",
              "      <td>J-7607</td>\n",
              "      <td>/content/data/voxel/futa_J-7607_1_0_64_240.npy</td>\n",
              "      <td>240</td>\n",
              "      <td>2-2</td>\n",
              "      <td>前葉</td>\n",
              "      <td>2</td>\n",
              "      <td>1</td>\n",
              "      <td>3</td>\n",
              "      <td>1</td>\n",
              "    </tr>\n",
              "    <tr>\n",
              "      <th>585</th>\n",
              "      <td>futa</td>\n",
              "      <td>J-7607</td>\n",
              "      <td>/content/data/voxel/futa_J-7607_1_0_64_270.npy</td>\n",
              "      <td>270</td>\n",
              "      <td>2-2</td>\n",
              "      <td>前葉</td>\n",
              "      <td>2</td>\n",
              "      <td>1</td>\n",
              "      <td>3</td>\n",
              "      <td>1</td>\n",
              "    </tr>\n",
              "    <tr>\n",
              "      <th>586</th>\n",
              "      <td>futa</td>\n",
              "      <td>J-7607</td>\n",
              "      <td>/content/data/voxel/futa_J-7607_1_0_64_300.npy</td>\n",
              "      <td>300</td>\n",
              "      <td>2-2</td>\n",
              "      <td>前葉</td>\n",
              "      <td>2</td>\n",
              "      <td>1</td>\n",
              "      <td>3</td>\n",
              "      <td>5</td>\n",
              "    </tr>\n",
              "    <tr>\n",
              "      <th>587</th>\n",
              "      <td>futa</td>\n",
              "      <td>J-7607</td>\n",
              "      <td>/content/data/voxel/futa_J-7607_1_0_64_330.npy</td>\n",
              "      <td>330</td>\n",
              "      <td>2-2</td>\n",
              "      <td>前葉</td>\n",
              "      <td>2</td>\n",
              "      <td>1</td>\n",
              "      <td>3</td>\n",
              "      <td>1</td>\n",
              "    </tr>\n",
              "  </tbody>\n",
              "</table>\n",
              "<p>588 rows × 10 columns</p>\n",
              "</div>\n",
              "      <button class=\"colab-df-convert\" onclick=\"convertToInteractive('df-952a80a8-38c1-48ff-84ad-f4fd78ec6664')\"\n",
              "              title=\"Convert this dataframe to an interactive table.\"\n",
              "              style=\"display:none;\">\n",
              "        \n",
              "  <svg xmlns=\"http://www.w3.org/2000/svg\" height=\"24px\"viewBox=\"0 0 24 24\"\n",
              "       width=\"24px\">\n",
              "    <path d=\"M0 0h24v24H0V0z\" fill=\"none\"/>\n",
              "    <path d=\"M18.56 5.44l.94 2.06.94-2.06 2.06-.94-2.06-.94-.94-2.06-.94 2.06-2.06.94zm-11 1L8.5 8.5l.94-2.06 2.06-.94-2.06-.94L8.5 2.5l-.94 2.06-2.06.94zm10 10l.94 2.06.94-2.06 2.06-.94-2.06-.94-.94-2.06-.94 2.06-2.06.94z\"/><path d=\"M17.41 7.96l-1.37-1.37c-.4-.4-.92-.59-1.43-.59-.52 0-1.04.2-1.43.59L10.3 9.45l-7.72 7.72c-.78.78-.78 2.05 0 2.83L4 21.41c.39.39.9.59 1.41.59.51 0 1.02-.2 1.41-.59l7.78-7.78 2.81-2.81c.8-.78.8-2.07 0-2.86zM5.41 20L4 18.59l7.72-7.72 1.47 1.35L5.41 20z\"/>\n",
              "  </svg>\n",
              "      </button>\n",
              "      \n",
              "  <style>\n",
              "    .colab-df-container {\n",
              "      display:flex;\n",
              "      flex-wrap:wrap;\n",
              "      gap: 12px;\n",
              "    }\n",
              "\n",
              "    .colab-df-convert {\n",
              "      background-color: #E8F0FE;\n",
              "      border: none;\n",
              "      border-radius: 50%;\n",
              "      cursor: pointer;\n",
              "      display: none;\n",
              "      fill: #1967D2;\n",
              "      height: 32px;\n",
              "      padding: 0 0 0 0;\n",
              "      width: 32px;\n",
              "    }\n",
              "\n",
              "    .colab-df-convert:hover {\n",
              "      background-color: #E2EBFA;\n",
              "      box-shadow: 0px 1px 2px rgba(60, 64, 67, 0.3), 0px 1px 3px 1px rgba(60, 64, 67, 0.15);\n",
              "      fill: #174EA6;\n",
              "    }\n",
              "\n",
              "    [theme=dark] .colab-df-convert {\n",
              "      background-color: #3B4455;\n",
              "      fill: #D2E3FC;\n",
              "    }\n",
              "\n",
              "    [theme=dark] .colab-df-convert:hover {\n",
              "      background-color: #434B5C;\n",
              "      box-shadow: 0px 1px 3px 1px rgba(0, 0, 0, 0.15);\n",
              "      filter: drop-shadow(0px 1px 2px rgba(0, 0, 0, 0.3));\n",
              "      fill: #FFFFFF;\n",
              "    }\n",
              "  </style>\n",
              "\n",
              "      <script>\n",
              "        const buttonEl =\n",
              "          document.querySelector('#df-952a80a8-38c1-48ff-84ad-f4fd78ec6664 button.colab-df-convert');\n",
              "        buttonEl.style.display =\n",
              "          google.colab.kernel.accessAllowed ? 'block' : 'none';\n",
              "\n",
              "        async function convertToInteractive(key) {\n",
              "          const element = document.querySelector('#df-952a80a8-38c1-48ff-84ad-f4fd78ec6664');\n",
              "          const dataTable =\n",
              "            await google.colab.kernel.invokeFunction('convertToInteractive',\n",
              "                                                     [key], {});\n",
              "          if (!dataTable) return;\n",
              "\n",
              "          const docLinkHtml = 'Like what you see? Visit the ' +\n",
              "            '<a target=\"_blank\" href=https://colab.research.google.com/notebooks/data_table.ipynb>data table notebook</a>'\n",
              "            + ' to learn more about interactive tables.';\n",
              "          element.innerHTML = '';\n",
              "          dataTable['output_type'] = 'display_data';\n",
              "          await google.colab.output.renderOutput(dataTable, element);\n",
              "          const docLink = document.createElement('div');\n",
              "          docLink.innerHTML = docLinkHtml;\n",
              "          element.appendChild(docLink);\n",
              "        }\n",
              "      </script>\n",
              "    </div>\n",
              "  </div>\n",
              "  "
            ],
            "text/plain": [
              "      蓋・身     列品番号  ... クラスタ-型式 クラスタ-時代\n",
              "0    futa  J-11536  ...       1       5\n",
              "1    futa  J-11536  ...       1       5\n",
              "2    futa  J-11536  ...       1       5\n",
              "3    futa  J-11536  ...       1       5\n",
              "4    futa  J-11536  ...       1       5\n",
              "..    ...      ...  ...     ...     ...\n",
              "583  futa   J-7607  ...       3       1\n",
              "584  futa   J-7607  ...       3       1\n",
              "585  futa   J-7607  ...       3       1\n",
              "586  futa   J-7607  ...       3       5\n",
              "587  futa   J-7607  ...       3       1\n",
              "\n",
              "[588 rows x 10 columns]"
            ]
          },
          "metadata": {},
          "execution_count": 17
        }
      ]
    },
    {
      "cell_type": "markdown",
      "source": [
        "## 勾配計算\n",
        "  category1が型式，category2が年代<br>\n",
        "\n",
        "GPUで実行すると下記のエラーが出ます．元モデルのBatchNormalization層を削除すれば\n",
        "GPUでも動きますが，あまり時間は掛からないためCPU実行でも問題ありません．<br>\n",
        " UnimplementedError: A deterministic GPU implementation of fused batch-norm backprop, when training is disabled, is not currently available. [Op:FusedBatchNormGradV3]\n"
      ],
      "metadata": {
        "id": "qnbOyWBkfNg7"
      },
      "id": "qnbOyWBkfNg7"
    },
    {
      "cell_type": "markdown",
      "source": [
        "### クラスタIDの勾配計算\n",
        "　・マルチラベルで勾配計算する場合，見たいラベルを0，見たいラベル以外を予測値として定義し，Loss関数にマイナスを掛けます．\n"
      ],
      "metadata": {
        "id": "s4029Ieo1frr"
      },
      "id": "s4029Ieo1frr"
    },
    {
      "cell_type": "code",
      "source": [
        "\n",
        "for pseudo_df_index in range(0,len(pseudo_df),12):\n",
        "  \n",
        "  fname_label = str(pseudo_df.loc[pseudo_df_index,'蓋・身'])+'_'+str(pseudo_df.loc[pseudo_df_index,'列品番号'])\n",
        "  print(fname_label)\n",
        "\n",
        "  io_img = np.load(pseudo_df.loc[pseudo_df_index,'voxel_path'])\n",
        "\n",
        "  io_img = np.expand_dims(io_img, axis=0)\n",
        "  io_img = tf.cast(io_img, tf.float32)\n",
        "\n",
        "\n",
        "  test1 =tf.cast(list(pseudo_df.loc[pseudo_df_index, ['クラスタ-型式','クラスタ-時代']]), tf.float32)\n",
        "  #ワンホットラベルへ変換して    \n",
        "  one_hot_test1 = np_utils.to_categorical(test1, num_classes=NUM_CLASSES)\n",
        "  test1 = np.array(one_hot_test1)\n",
        "\n",
        "\n",
        "  cce = tf.keras.losses.CategoricalCrossentropy()\n",
        "\n",
        "  #category1：型式の勾配計算\n",
        "  with tf.GradientTape() as tape1:\n",
        "    conv_outputs, predictions = grad_model(io_img)\n",
        "    loss1 = cce(np.zeros(NUM_CLASSES).reshape(1,NUM_CLASSES), predictions[0]) \n",
        "    loss2 = cce(test1[1].reshape(1,NUM_CLASSES), predictions[1]) \n",
        "    grads1 = tape1.gradient([loss1,loss2], conv_outputs) * -1\n",
        "\n",
        "\n",
        "  #category2：時代の勾配計算\n",
        "  with tf.GradientTape() as tape2:\n",
        "    conv_outputs, predictions = grad_model(io_img)\n",
        "    loss1 = cce(test1[0].reshape(1,NUM_CLASSES), predictions[0]) \n",
        "    loss2 = cce(np.zeros(NUM_CLASSES).reshape(1,NUM_CLASSES), predictions[1])\n",
        "    grads2 = tape2.gradient([loss1,loss2], conv_outputs) * -1\n",
        "\n",
        "\n",
        "  output = conv_outputs[0]\n",
        "\n",
        "\n",
        "  weights1 = tf.reduce_mean(grads1[0], axis=(0,1,2))\n",
        "  cam1 = np.zeros(output.shape[:3], dtype=np.float32)\n",
        "\n",
        "  weights2 = tf.reduce_mean(grads2[0], axis=(0,1,2))\n",
        "  cam2 = np.zeros(output.shape[:3], dtype=np.float32)\n",
        "\n",
        "  #cam1：型式\n",
        "  for i, w in enumerate(weights1):\n",
        "      cam1 += w * output[:, :, :, i]\n",
        "\n",
        "  #cam2：時代\n",
        "  for i, w in enumerate(weights2):\n",
        "      cam2 += w * output[:, :, :, i]\n",
        "\n",
        "\n",
        "  capi1 = cam1.numpy().repeat(IMAGE_SIZE/len(cam1), axis=0).repeat(IMAGE_SIZE/len(cam1), axis=1).repeat(IMAGE_SIZE/len(cam1), axis=2)\n",
        "  np.save(\"{}_{}_cluster1-type.npy\".format(fname_label,pseudo_df.loc[pseudo_df_index,'回転角度']), capi1)\n",
        "\n",
        "  capi2 = cam2.numpy().repeat(IMAGE_SIZE/len(cam2), axis=0).repeat(IMAGE_SIZE/len(cam2), axis=1).repeat(IMAGE_SIZE/len(cam2), axis=2)\n",
        "  np.save(\"{}_{}_cluster2-age.npy\".format(fname_label,pseudo_df.loc[pseudo_df_index,'回転角度']), capi2)\n",
        "\n",
        "  gc.collect()"
      ],
      "metadata": {
        "colab": {
          "base_uri": "https://localhost:8080/"
        },
        "id": "EepDbkV80PF7",
        "outputId": "68aa6536-c324-4166-a430-5f96a7ca3fc7"
      },
      "id": "EepDbkV80PF7",
      "execution_count": null,
      "outputs": [
        {
          "output_type": "stream",
          "name": "stdout",
          "text": [
            "futa_J-11536\n",
            "futa_J-11563\n",
            "futa_J-13305-1\n",
            "futa_J-13305-2\n",
            "futa_J-13305-3\n",
            "futa_J-13305-4\n",
            "futa_J-13305-5\n",
            "futa_J-13305-6\n",
            "futa_J-134\n",
            "futa_J-139\n",
            "futa_J-147\n",
            "futa_J-14876\n",
            "futa_J-20215\n",
            "futa_J-20295\n",
            "futa_J-20297\n",
            "futa_J-22262\n",
            "futa_J-22896-10\n",
            "futa_J-22896-11\n",
            "futa_J-22896-1\n",
            "futa_J-22896-2\n",
            "futa_J-22896-3\n",
            "futa_J-22896-4\n",
            "futa_J-22896-5\n",
            "futa_J-22896-6\n",
            "futa_J-22896-7\n",
            "futa_J-22896-8\n",
            "futa_J-22896-9\n",
            "futa_J-23049\n",
            "futa_J-23050\n",
            "futa_J-23682\n",
            "futa_J-3457\n",
            "futa_J-3522\n",
            "futa_J-3584\n",
            "futa_J-3589\n",
            "futa_J-3634\n",
            "futa_J-3651\n",
            "futa_J-3667\n",
            "futa_J-4081\n",
            "futa_J-4120\n",
            "futa_J-6564\n",
            "futa_J-6568\n",
            "futa_J-6569\n",
            "futa_J-6570\n",
            "futa_J-6572\n",
            "futa_J-6573\n",
            "futa_J-6574\n",
            "futa_J-6575\n",
            "futa_J-7598\n",
            "futa_J-7607\n"
          ]
        }
      ]
    },
    {
      "cell_type": "code",
      "source": [
        "gc.collect()"
      ],
      "metadata": {
        "colab": {
          "base_uri": "https://localhost:8080/"
        },
        "id": "I3x_16A4BcSy",
        "outputId": "f43553e5-1aef-499f-fbbe-db5ed83198a4"
      },
      "id": "I3x_16A4BcSy",
      "execution_count": null,
      "outputs": [
        {
          "output_type": "execute_result",
          "data": {
            "text/plain": [
              "8635"
            ]
          },
          "metadata": {},
          "execution_count": 205
        }
      ]
    },
    {
      "cell_type": "markdown",
      "source": [
        "# 3D可視化\n",
        "  * 須恵器が存在するvoxelのみプロットします．\n",
        "  * カメラ角度は，上，下，左，右，前，後，からの6つです．"
      ],
      "metadata": {
        "id": "Rklq9se_39MD"
      },
      "id": "Rklq9se_39MD"
    },
    {
      "cell_type": "code",
      "source": [
        "#クラスタIDの勾配を可視化\n",
        "cam_cat = 'cluster1-type' #ClusterID-型式\n",
        "#cam_cat = 'cluster2-age' #ClusterID-時代"
      ],
      "metadata": {
        "id": "3TMbYNXjkUTr"
      },
      "id": "3TMbYNXjkUTr",
      "execution_count": null,
      "outputs": []
    },
    {
      "cell_type": "code",
      "source": [
        "def min_max(x, axis=None):\n",
        "    min = x.min(axis=axis, keepdims=True)\n",
        "    max = x.max(axis=axis, keepdims=True)\n",
        "    result = (x-min)/(max-min)\n",
        "    return result\n",
        "\n",
        "def plot_voxel(matrix, capi_matrix, cam_cat, \\\n",
        "               pseudo_series, \\\n",
        "               filename=\"plot_test\", matrix_size=32, points_size=15, \\\n",
        "               camera_angle_list = [\"from_above\",\"from_below\",\"from_maxZaxis_side\",\\\n",
        "                                    \"from_minZaxis_side\",\"from_maxXaxis_side\",\"from_minXaxis_side\"]):\n",
        "  \n",
        "    fig = plt.figure(figsize=(18, 8))\n",
        "\n",
        "    ax_1 = fig.add_subplot(131, projection='3d', aspect='auto')\n",
        "\n",
        "    facecolors_1 = matrix.transpose(2,0,1,3)\n",
        "    facecolors_1 = facecolors_1 / 255\n",
        "    filled_1 = facecolors_1[:,:,:,-1] != 0\n",
        "    x, y, z = np.indices(np.array(filled_1.shape) + 1)\n",
        "    ax_1.voxels(x, y, z, filled_1, facecolors=facecolors_1, shade=False)\n",
        "    ax_1.set_title(\"voxel\".format(matrix_size, matrix_size, matrix_size), fontsize=12)\n",
        "    ax_1.set_xlabel(\"z\")\n",
        "    ax_1.set_ylabel(\"x\")\n",
        "    ax_1.set_zlabel(\"y\")\n",
        "    ax_1.set_box_aspect((1,1,1))\n",
        "\n",
        "\n",
        "\n",
        "    matrix_2 = matrix.copy()\n",
        "    ax_2 = fig.add_subplot(132, projection='3d', aspect='auto')\n",
        "\n",
        "    \n",
        "    # 0をthresholdに\n",
        "    threshold = 0\n",
        "    \n",
        "    #描画用に0-1へ正規化\n",
        "    norm_capi_matrix = min_max(capi_matrix, axis=(0,1,2))    \n",
        "\n",
        "    matrix_2[:,:,:,0] = np.where(((matrix[:,:,:,3] > 1)&(capi_matrix < threshold)), 255, matrix[:,:,:,0])\n",
        "    matrix_2[:,:,:,1] = np.where(((matrix[:,:,:,3] > 1)&(capi_matrix < threshold)), 255, matrix[:,:,:,1])\n",
        "    matrix_2[:,:,:,2] = np.where(((matrix[:,:,:,3] > 1)&(capi_matrix < threshold)), 255, matrix[:,:,:,2])\n",
        "\n",
        "    facecolors_2 = matrix_2.transpose(2,0,1,3)\n",
        "    facecolors_2 = facecolors_2 / 255\n",
        "    filled_2 = facecolors_2[:,:,:,-1] != 0\n",
        "    #x, y, z = np.indices(np.array(filled_2.shape) + 1)\n",
        "\n",
        "    ax_2.voxels(x, y, z, filled_2, facecolors=facecolors_2, shade=False)\n",
        "    \n",
        "    ax_2.set_title(\"Grad-CAMによる勾配値が{}以上であるvoxel\".format(threshold), fontsize=12)\n",
        "    ax_2.set_xlabel(\"z\")\n",
        "    ax_2.set_ylabel(\"x\")\n",
        "    ax_2.set_zlabel(\"y\")\n",
        "\n",
        "    ax_2.set_box_aspect((1,1,1))\n",
        "\n",
        "\n",
        "    ax_3 = fig.add_subplot(133, projection='3d', aspect='auto')\n",
        "\n",
        "    facecolors_3 = matrix.copy()\n",
        "\n",
        "    norm = Normalize(vmin=np.min(capi_matrix), vmax=np.max(capi_matrix))\n",
        "    jet_colors = plt.cm.jet(norm(capi_matrix))\n",
        "    facecolors_3[:,:,:,0] = np.where((matrix[:,:,:,3] > 0), jet_colors[:,:,:,0]*255, facecolors_3[:,:,:,0])\n",
        "    facecolors_3[:,:,:,1] = np.where((matrix[:,:,:,3] > 0), jet_colors[:,:,:,1]*255, facecolors_3[:,:,:,1])\n",
        "    facecolors_3[:,:,:,2] = np.where((matrix[:,:,:,3] > 0), jet_colors[:,:,:,2]*255, facecolors_3[:,:,:,2])\n",
        "\n",
        "    facecolors_3 = facecolors_3.transpose(2,0,1,3)\n",
        "    facecolors_3 = facecolors_3 / 255\n",
        "\n",
        "    filled_3 = facecolors_3[:,:,:,-1] != 0\n",
        "    x, y, z = np.indices(np.array(filled_3.shape) + 1)\n",
        "\n",
        "    m = cm.ScalarMappable(cmap=plt.cm.jet, norm=norm)\n",
        "    m.set_array([])\n",
        "   \n",
        "    ax_3.voxels(x, y, z, filled_3, facecolors=facecolors_3, shade=False)\n",
        "    ax_3.set_title(\"Grad-CAM\\n（須恵器が存在するのvoxelのみ）\", fontsize=12)\n",
        "    ax_3.set_xlabel(\"z\")\n",
        "    ax_3.set_ylabel(\"x\")\n",
        "    ax_3.set_zlabel(\"y\")\n",
        "\n",
        "    ax_3.set_box_aspect((1,1,1))\n",
        "\n",
        "    for camera in camera_angle_list:\n",
        "\n",
        "      if camera == 'from_above':\n",
        "        ax_1.view_init(elev=90, azim=0)\n",
        "        ax_2.view_init(elev=90, azim=0)\n",
        "        ax_3.view_init(elev=90, azim=0)\n",
        "      elif camera == 'from_below':\n",
        "        ax_1.view_init(elev=-90, azim=0)\n",
        "        ax_2.view_init(elev=-90, azim=0)\n",
        "        ax_3.view_init(elev=-90, azim=0)\n",
        "      elif camera == 'from_maxZaxis_side':\n",
        "        ax_1.view_init(elev=0, azim=0)\n",
        "        ax_2.view_init(elev=0, azim=0)\n",
        "        ax_3.view_init(elev=0, azim=0)\n",
        "      elif camera == 'from_minZaxis_side':\n",
        "        ax_1.view_init(elev=0, azim=180)\n",
        "        ax_2.view_init(elev=0, azim=180)\n",
        "        ax_3.view_init(elev=0, azim=180)\n",
        "      elif camera == 'from_maxXaxis_side':\n",
        "        ax_1.view_init(elev=0, azim=90)\n",
        "        ax_2.view_init(elev=0, azim=90)\n",
        "        ax_3.view_init(elev=0, azim=90)\n",
        "      elif camera == 'from_minXaxis_side':\n",
        "        ax_1.view_init(elev=0, azim=-90)\n",
        "        ax_2.view_init(elev=0, azim=-90)\n",
        "        ax_3.view_init(elev=0, azim=-90) \n",
        "\n",
        "      \n",
        "      plt.suptitle('{}-{}  (voxel-size:{})    Camera-angle:{}\\n '\\\n",
        "                   'true-型式:{},        true-時代:{},    '\\\n",
        "                   '疑似-型式:{},    疑似-時代:{}，     '\\\n",
        "                   'クラスタ-型式:{},    クラスタ-時代:{} '.format(\\\n",
        "                                       filename, cam_cat, matrix_size, camera, \\\n",
        "                                       pseudo_series['正解ラベル-型式'],\n",
        "                                       pseudo_series['正解ラベル-時代'],\n",
        "                                       pseudo_series['疑似ラベル-型式'],\n",
        "                                       pseudo_series['疑似ラベル-時代'],\n",
        "                                       pseudo_series['クラスタ-型式'],\n",
        "                                       pseudo_series['クラスタ-時代'],\n",
        "                                        ), fontsize=18)\n",
        "    \n",
        "\n",
        "      fig.subplots_adjust(left=0.05, right=0.92, bottom=0.05, top=0.90, wspace=0.02, hspace=0.1)\n",
        "      axpos = ax_3.get_position()\n",
        "      cax = fig.add_axes([0.93, axpos.y0, 0.02, axpos.height])\n",
        "      cbar = fig.colorbar(m,  cax=cax, orientation='vertical')    \n",
        "\n",
        "      plt.savefig(\"{}_{}_{}.png\".format(filename, cam_cat, camera))\n",
        "    #plt.show()\n",
        "    plt.clf()\n",
        "    plt.close()\n",
        "    gc.collect()"
      ],
      "metadata": {
        "id": "VKIjBzYvMlOC"
      },
      "id": "VKIjBzYvMlOC",
      "execution_count": null,
      "outputs": []
    },
    {
      "cell_type": "code",
      "source": [
        ""
      ],
      "metadata": {
        "id": "1lR6KRlPFKLx"
      },
      "id": "1lR6KRlPFKLx",
      "execution_count": null,
      "outputs": []
    },
    {
      "cell_type": "code",
      "source": [
        "def get_keys_from_value(d, val):\n",
        "    return [k for k, v in d.items() if val in v[0]]\n",
        "\n",
        "camera_angle_list = ['from_above',\n",
        "                     'from_below',\n",
        "                     'from_maxZaxis_side','from_minZaxis_side','from_maxXaxis_side','from_minXaxis_side'\n",
        "                     ]\n",
        "\n",
        "for pseudo_df_index in range(0,len(pseudo_df),12): \n",
        "  print(pseudo_df_index)\n",
        "\n",
        "  fname_label = str(pseudo_df.loc[pseudo_df_index,'蓋・身'])+'_'+str(pseudo_df.loc[pseudo_df_index,'列品番号'])\n",
        "  capidata_path = \"{}_{}_{}.npy\".format(fname_label,pseudo_df.loc[pseudo_df_index,'回転角度'],cam_cat)\n",
        "  data_name = \"{}_{}\".format(fname_label,pseudo_df.loc[pseudo_df_index,'回転角度'])\n",
        "  print(data_name)\n",
        "  voxel_path = pseudo_df.loc[pseudo_df_index,'voxel_path']\n",
        "\n",
        "  MT_SIZE = 64\n",
        "  points_size = 32\n",
        "  print(voxel_path)\n",
        "  print(capidata_path)\n",
        "  plot_voxel(np.load(voxel_path), \\\n",
        "            capi_matrix=np.load(capidata_path), cam_cat=cam_cat,\\\n",
        "            pseudo_series=pseudo_df.loc[pseudo_df_index,:],\\\n",
        "            filename=data_name, matrix_size=MT_SIZE, points_size=points_size, \\\n",
        "             camera_angle_list =camera_angle_list)"
      ],
      "metadata": {
        "id": "zRgD8qCZEMJ7"
      },
      "id": "zRgD8qCZEMJ7",
      "execution_count": null,
      "outputs": []
    },
    {
      "cell_type": "code",
      "source": [
        ""
      ],
      "metadata": {
        "id": "54g91IlppW7I"
      },
      "id": "54g91IlppW7I",
      "execution_count": null,
      "outputs": []
    },
    {
      "cell_type": "code",
      "source": [
        ""
      ],
      "metadata": {
        "id": "5fBrzNKpEdXN"
      },
      "id": "5fBrzNKpEdXN",
      "execution_count": null,
      "outputs": []
    },
    {
      "cell_type": "code",
      "source": [
        ""
      ],
      "metadata": {
        "id": "D5Szj6ZuwOyl"
      },
      "id": "D5Szj6ZuwOyl",
      "execution_count": null,
      "outputs": []
    }
  ]
}
